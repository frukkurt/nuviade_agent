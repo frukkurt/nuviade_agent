{
 "cells": [
  {
   "cell_type": "code",
   "execution_count": null,
   "id": "2baf651f",
   "metadata": {},
   "outputs": [],
   "source": [
    "from dotenv import load_dotenv\n",
    "import os\n",
    "# Load environment variables from .env file\n",
    "load_dotenv()\n",
    "# Access variables using os.environ\n",
    "SERVICE_ACCOUNT_FILE = os.environ.get(\"SERVICE_ACCOUNT_FILE\")"
   ]
  },
  {
   "cell_type": "code",
   "execution_count": null,
   "id": "bac2b7bd",
   "metadata": {},
   "outputs": [
    {
     "data": {
      "text/plain": [
       "'/Users/pinyawat.rat/Documents/nureva_one/my_chatbot_agent/notebooks/nureva-one-51d27567923c.json'"
      ]
     },
     "execution_count": 2,
     "metadata": {},
     "output_type": "execute_result"
    }
   ],
   "source": [
    "SERVICE_ACCOUNT_FILE"
   ]
  },
  {
   "cell_type": "code",
   "execution_count": 4,
   "id": "901ec1c5",
   "metadata": {},
   "outputs": [],
   "source": [
    "from demo_tools.list_file_from_googledrive import google_drive_file"
   ]
  },
  {
   "cell_type": "code",
   "execution_count": null,
   "id": "ed55a6a0",
   "metadata": {},
   "outputs": [
    {
     "data": {
      "text/plain": [
       "AIMessage(content='สวัสดีครับ/ค่ะ! มีอะไรให้ช่วยเหลือหรือพูดคุยกันได้บ้างครับ/ค่ะ?', additional_kwargs={'refusal': None}, response_metadata={'token_usage': {'completion_tokens': 28, 'prompt_tokens': 12, 'total_tokens': 40, 'completion_tokens_details': {'accepted_prediction_tokens': 0, 'audio_tokens': 0, 'reasoning_tokens': 0, 'rejected_prediction_tokens': 0}, 'prompt_tokens_details': {'audio_tokens': 0, 'cached_tokens': 0}}, 'model_name': 'gpt-4o-mini-2024-07-18', 'system_fingerprint': 'fp_0392822090', 'id': 'chatcmpl-BYc9fa2EewrUPm3If6JJCTkKYH5Os', 'service_tier': 'default', 'finish_reason': 'stop', 'logprobs': None}, id='run--9d45e47f-8ff7-4285-8589-ce1de9c6be9b-0', usage_metadata={'input_tokens': 12, 'output_tokens': 28, 'total_tokens': 40, 'input_token_details': {'audio': 0, 'cache_read': 0}, 'output_token_details': {'audio': 0, 'reasoning': 0}})"
      ]
     },
     "execution_count": 2,
     "metadata": {},
     "output_type": "execute_result"
    }
   ],
   "source": [
    "from llm import llm\n",
    "\n",
    "llm.invoke(\"สวัสดี?\")"
   ]
  },
  {
   "cell_type": "code",
   "execution_count": null,
   "id": "36e48226",
   "metadata": {},
   "outputs": [
    {
     "name": "stdout",
     "output_type": "stream",
     "text": [
      "https://drive.google.com/drive/folders/1E155pk33eHirWFOptzWdLshlpjvHNYbJ?usp=drive_link\n"
     ]
    },
    {
     "data": {
      "text/plain": [
       "{'messages': [HumanMessage(content='I want business infomation for nureva corp', additional_kwargs={}, response_metadata={}, id='1fee1ac9-24b8-48e2-b66e-7a8cc06d59e4'),\n",
       "  AIMessage(content='', additional_kwargs={'tool_calls': [{'id': 'call_I5rGeTnJH9u11EzoyphweyCq', 'function': {'arguments': '{\"url\":\"https://drive.google.com/drive/folders/1E155pk33eHirWFOptzWdLshlpjvHNYbJ?usp=drive_link\"}', 'name': 'google_drive_file'}, 'type': 'function'}], 'refusal': None}, response_metadata={'token_usage': {'completion_tokens': 50, 'prompt_tokens': 243, 'total_tokens': 293, 'completion_tokens_details': {'accepted_prediction_tokens': 0, 'audio_tokens': 0, 'reasoning_tokens': 0, 'rejected_prediction_tokens': 0}, 'prompt_tokens_details': {'audio_tokens': 0, 'cached_tokens': 0}}, 'model_name': 'gpt-4o-mini-2024-07-18', 'system_fingerprint': 'fp_92e0377081', 'id': 'chatcmpl-BYmSMY8SCvvMzW4uvk7FGuFkBA4Ro', 'service_tier': 'default', 'finish_reason': 'tool_calls', 'logprobs': None}, id='run--04673873-966e-4f96-9687-8ba4bfe28a52-0', tool_calls=[{'name': 'google_drive_file', 'args': {'url': 'https://drive.google.com/drive/folders/1E155pk33eHirWFOptzWdLshlpjvHNYbJ?usp=drive_link'}, 'id': 'call_I5rGeTnJH9u11EzoyphweyCq', 'type': 'tool_call'}], usage_metadata={'input_tokens': 243, 'output_tokens': 50, 'total_tokens': 293, 'input_token_details': {'audio': 0, 'cache_read': 0}, 'output_token_details': {'audio': 0, 'reasoning': 0}}),\n",
       "  ToolMessage(content='📂 ไฟล์ทั้งหมดในโฟลเดอร์ (https://drive.google.com/drive/folders/1E155pk33eHirWFOptzWdLshlpjvHNYbJ?usp=drive_link):\\n📄 Menu_List (ID: 1ifAM845b3syJAlyWXdHbP3runZ88E6K2j-YDyA9T_bA, Type: application/vnd.google-apps.spreadsheet)\\n   🔗 URL: https://drive.google.com/file/d/1ifAM845b3syJAlyWXdHbP3runZ88E6K2j-YDyA9T_bA/view?usp=sharing\\n📄 ข้อมุล บริษัท (ID: 1GXVwCuwm-9I7AQ7Q8u0yHSWeNrVXbEiI3rvrr74aWLQ, Type: application/vnd.google-apps.spreadsheet)\\n   🔗 URL: https://drive.google.com/file/d/1GXVwCuwm-9I7AQ7Q8u0yHSWeNrVXbEiI3rvrr74aWLQ/view?usp=sharing\\n📄 Menu_List.xlsx (ID: 1Nrdzo19BNER3CpZo0Ptk1eGk70ZadsTs, Type: application/vnd.openxmlformats-officedocument.spreadsheetml.sheet)\\n   🔗 URL: https://drive.google.com/file/d/1Nrdzo19BNER3CpZo0Ptk1eGk70ZadsTs/view?usp=sharing\\n', name='google_drive_file', id='63eaab0e-c98e-4bf3-9a27-16f7de1aadb3', tool_call_id='call_I5rGeTnJH9u11EzoyphweyCq'),\n",
       "  AIMessage(content='คุณสามารถดูข้อมูลธุรกิจของ Nureva Corp ได้ที่ลิงก์ด้านล่างนี้:\\n\\n- [ข้อมูลบริษัท](https://drive.google.com/file/d/1GXVwCuwm-9I7AQ7Q8u0yHSWeNrVXbEiI3rvrr74aWLQ/view?usp=sharing)\\n\\nหากคุณต้องการข้อมูลเพิ่มเติมหรือมีคำถามอื่น ๆ สามารถสอบถามได้เลยนะครับ!', additional_kwargs={'refusal': None}, response_metadata={'token_usage': {'completion_tokens': 96, 'prompt_tokens': 641, 'total_tokens': 737, 'completion_tokens_details': {'accepted_prediction_tokens': 0, 'audio_tokens': 0, 'reasoning_tokens': 0, 'rejected_prediction_tokens': 0}, 'prompt_tokens_details': {'audio_tokens': 0, 'cached_tokens': 0}}, 'model_name': 'gpt-4o-mini-2024-07-18', 'system_fingerprint': 'fp_92e0377081', 'id': 'chatcmpl-BYmSNHC00SEGX19Ut7IBKXXj2F5DR', 'service_tier': 'default', 'finish_reason': 'stop', 'logprobs': None}, id='run--63591e19-1287-4a7e-ba4a-c7e34af87fe7-0', usage_metadata={'input_tokens': 641, 'output_tokens': 96, 'total_tokens': 737, 'input_token_details': {'audio': 0, 'cache_read': 0}, 'output_token_details': {'audio': 0, 'reasoning': 0}})]}"
      ]
     },
     "metadata": {},
     "output_type": "display_data"
    },
    {
     "data": {
      "text/plain": [
       "'คุณสามารถดูข้อมูลธุรกิจของ Nureva Corp ได้ที่ลิงก์ด้านล่างนี้:\\n\\n- [ข้อมูลบริษัท](https://drive.google.com/file/d/1GXVwCuwm-9I7AQ7Q8u0yHSWeNrVXbEiI3rvrr74aWLQ/view?usp=sharing)\\n\\nหากคุณต้องการข้อมูลเพิ่มเติมหรือมีคำถามอื่น ๆ สามารถสอบถามได้เลยนะครับ!'"
      ]
     },
     "execution_count": 5,
     "metadata": {},
     "output_type": "execute_result"
    }
   ],
   "source": [
    "from agent import agent_stateless,agent_stateful\n",
    "response_agent = agent_stateless.invoke(\n",
    "    {\"messages\": [{\"role\": \"user\", \"content\": \"I want business infomation for nureva corp\"}]}\n",
    ")\n",
    "display(response_agent)\n",
    "response_agent[\"messages\"][-1].content"
   ]
  },
  {
   "cell_type": "code",
   "execution_count": 3,
   "id": "1c7a1ebd",
   "metadata": {},
   "outputs": [],
   "source": [
    "from demo_tools.list_file_from_googledrive import google_drive_file,list_files_from_folder_url\n",
    "# google_drive_file.run(\"https://drive.google.com/drive/folders/1E155pk33eHirWFOptzWdLshlpjvHNYbJ?usp=drive_link\")\n",
    "# list_files_from_folder_url(\"https://drive.google.com/drive/folders/1E155pk33eHirWFOptzWdLshlpjvHNYbJ?usp=drive_link\")"
   ]
  },
  {
   "cell_type": "code",
   "execution_count": 7,
   "id": "b1c4ed98",
   "metadata": {},
   "outputs": [
    {
     "data": {
      "text/plain": [
       "'คุณต้องการข้อมูลเกี่ยวกับบริษัท Nureva Corp. ในด้านไหนบ้างครับ? เช่น ประวัติบริษัท ผลิตภัณฑ์ หรือข้อมูลอื่น ๆ?'"
      ]
     },
     "execution_count": 7,
     "metadata": {},
     "output_type": "execute_result"
    }
   ],
   "source": [
    "response_agent = agent_stateless.invoke(\n",
    "    {\"messages\": [{\"role\": \"user\", \"content\": \"อยากได้ข้อมูล บริษัท อ่ะ\"}]}\n",
    ")\n",
    "response_agent[\"messages\"][-1].content"
   ]
  },
  {
   "cell_type": "code",
   "execution_count": null,
   "id": "cb684229",
   "metadata": {},
   "outputs": [
    {
     "name": "stdout",
     "output_type": "stream",
     "text": [
      "{\"response\":\"สวัสดีครับ/ค่ะ! มีอะไรให้ช่วยเหลือหรือสอบถามได้เลยนะครับ/ค่ะ\"}"
     ]
    }
   ],
   "source": [
    "!curl -X 'POST' 'https://40df-2001-fb1-10d-9d96-841b-1203-53e6-c126.ngrok-free.app/ask' -H 'Content-Type: application/json' -d '{\"message\": \"สวัสดี\",\"thread_id\": \"fruk\"}'\n",
    "!curl -X 'POST' 'https://40df-2001-fb1-10d-9d96-841b-1203-53e6-c126.ngrok-free.app/ask_thread_id' -H 'Content-Type: application/json' -d '{\"message\": \"สวัสดี\",\"thread_id\": \"fruk\"}'"
   ]
  },
  {
   "cell_type": "code",
   "execution_count": 40,
   "id": "f6dad29b",
   "metadata": {},
   "outputs": [
    {
     "name": "stdout",
     "output_type": "stream",
     "text": [
      "{\"response\":\"ขอโทษครับ ดูเหมือนว่าฉันไม่สามารถเข้าถึงข้อมูลใน Google Drive ได้ในขณะนี้ แต่คุณสามารถเข้าไปที่ลิงก์นี้เพื่อดูข้อมูลของบริษัทได้โดยตรง: [Nureva Google Drive](https://drive.google.com/drive/folders/1E155pk33eHirWFOptzWdLshlpjvHNYbJ?usp=drive_link)\\n\\nหากคุณมีคำถามเพิ่มเติมเกี่ยวกับบริษัทหรือข้อมูลเฉพาะเจาะจงที่ต้องการทราบ สามารถถามได้เลยครับ!\"}"
     ]
    }
   ],
   "source": [
    "!curl -X 'POST' 'https://40df-2001-fb1-10d-9d96-841b-1203-53e6-c126.ngrok-free.app/ask' -H 'Content-Type: application/json' -d '{\"message\": \"อยากได้ข้อมูล บริษัท อ่ะ\",\"thread_id\": \"fruk\"}'"
   ]
  },
  {
   "cell_type": "code",
   "execution_count": 36,
   "id": "3b38a921",
   "metadata": {},
   "outputs": [
    {
     "name": "stdout",
     "output_type": "stream",
     "text": [
      "{\"response\":\"สวัสดีครับ! ผมชื่อ \\\"น้อน นูเรว่า\\\" ยินดีที่ได้รู้จักครับ มีอะไรให้ช่วยเหลือได้บ้างครับ?\"}"
     ]
    }
   ],
   "source": [
    "!curl -X 'POST' 'https://40df-2001-fb1-10d-9d96-841b-1203-53e6-c126.ngrok-free.app/ask_thread_id' -H 'Content-Type: application/json' -d '{\"message\": \"สวัสดี คุณ ชื่อ อะไร\",\"thread_id\": \"fruk1\"}'"
   ]
  },
  {
   "cell_type": "code",
   "execution_count": 34,
   "id": "f440ec9f",
   "metadata": {},
   "outputs": [
    {
     "data": {
      "text/plain": [
       "'asdasd sd'"
      ]
     },
     "execution_count": 34,
     "metadata": {},
     "output_type": "execute_result"
    }
   ],
   "source": [
    "test = \"asdasd [aa]\"\n",
    "test.replace(\"[aa]\", \"sd\")"
   ]
  },
  {
   "cell_type": "code",
   "execution_count": null,
   "id": "67346f39",
   "metadata": {},
   "outputs": [],
   "source": []
  }
 ],
 "metadata": {
  "kernelspec": {
   "display_name": "nureva_bot",
   "language": "python",
   "name": "python3"
  },
  "language_info": {
   "codemirror_mode": {
    "name": "ipython",
    "version": 3
   },
   "file_extension": ".py",
   "mimetype": "text/x-python",
   "name": "python",
   "nbconvert_exporter": "python",
   "pygments_lexer": "ipython3",
   "version": "3.10.13"
  }
 },
 "nbformat": 4,
 "nbformat_minor": 5
}
